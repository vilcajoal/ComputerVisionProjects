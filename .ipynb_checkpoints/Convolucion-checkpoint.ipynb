{
 "cells": [
  {
   "cell_type": "markdown",
   "id": "e87f016d",
   "metadata": {},
   "source": [
    "<table>\n",
    "  <tr><td>\n",
    "  </td></tr>\n",
    "  <tr><td align=\"center\">\n",
    "    <b>Convolución con Imagenes\n",
    "  </td></tr>\n",
    "</table>"
   ]
  },
  {
   "cell_type": "code",
   "execution_count": 7,
   "id": "6708de1f",
   "metadata": {},
   "outputs": [],
   "source": [
    "import cv2 \n",
    "import numpy as np\n",
    "import matplotlib.pyplot as plt"
   ]
  },
  {
   "cell_type": "code",
   "execution_count": 8,
   "id": "22c5954f",
   "metadata": {},
   "outputs": [],
   "source": [
    "img = cv2.imread('./img/bananos.jpg')"
   ]
  },
  {
   "cell_type": "code",
   "execution_count": 9,
   "id": "43f0b3c4",
   "metadata": {},
   "outputs": [
    {
     "data": {
      "text/plain": [
       "(900, 1200, 3)"
      ]
     },
     "execution_count": 9,
     "metadata": {},
     "output_type": "execute_result"
    }
   ],
   "source": [
    "img.shape"
   ]
  },
  {
   "cell_type": "code",
   "execution_count": null,
   "id": "63425e10",
   "metadata": {},
   "outputs": [],
   "source": [
    "cv2.imshow('Original',img)\n",
    "cv2.waitKey()\n",
    "cv2.destroyAllWindows ()"
   ]
  },
  {
   "cell_type": "code",
   "execution_count": null,
   "id": "a5594713",
   "metadata": {},
   "outputs": [],
   "source": [
    "kernel_3x3 = np.one((3,3), np.float32)/(3*3)\n",
    "output"
   ]
  },
  {
   "cell_type": "code",
   "execution_count": null,
   "id": "873c9392",
   "metadata": {},
   "outputs": [],
   "source": []
  },
  {
   "cell_type": "code",
   "execution_count": null,
   "id": "8c9de7e3",
   "metadata": {},
   "outputs": [],
   "source": []
  }
 ],
 "metadata": {
  "kernelspec": {
   "display_name": "Python 3",
   "language": "python",
   "name": "python3"
  },
  "language_info": {
   "codemirror_mode": {
    "name": "ipython",
    "version": 3
   },
   "file_extension": ".py",
   "mimetype": "text/x-python",
   "name": "python",
   "nbconvert_exporter": "python",
   "pygments_lexer": "ipython3",
   "version": "3.7.10"
  }
 },
 "nbformat": 4,
 "nbformat_minor": 5
}
